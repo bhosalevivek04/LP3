{
  "cells": [
    {
      "cell_type": "markdown",
      "metadata": {
        "id": "view-in-github",
        "colab_type": "text"
      },
      "source": [
        "<a href=\"https://colab.research.google.com/github/bhosalevivek04/LP3/blob/main/LP3.ipynb\" target=\"_parent\"><img src=\"https://colab.research.google.com/assets/colab-badge.svg\" alt=\"Open In Colab\"/></a>"
      ]
    },
    {
      "cell_type": "code",
      "source": [
        "# Practical l: Write a program non-recursive and recursive program to calculate Fibonacci numbers and analyze their time and space complexity.\n",
        "def fibonacci(n):\n",
        "    step_count = 0\n",
        "    if n == 0:\n",
        "        return 0, step_count\n",
        "    elif n == 1:\n",
        "        return 1, step_count\n",
        "\n",
        "    a, b = 0, 1\n",
        "    step_count += 2  # for initial assignments a and b\n",
        "\n",
        "    for i in range(2, n + 1):\n",
        "        a, b = b, a + b\n",
        "        step_count += 1  # for each iteration\n",
        "        step_count += 2  # for the assignments inside the loop\n",
        "\n",
        "    return b, step_count\n",
        "\n",
        "# Example usage:\n",
        "n = int(input(\"Enter the Fibonacci term you want to find: \"))\n",
        "fib_number, steps = fibonacci(n)\n",
        "print(f\"Fibonacci number at position {n} is {fib_number}\")\n",
        "print(f\"Total steps taken: {steps}\")"
      ],
      "metadata": {
        "colab": {
          "base_uri": "https://localhost:8080/",
          "height": 0
        },
        "id": "KLMNHW6s6b4l",
        "outputId": "16e41003-3c22-43b8-9c01-4827453b97e5"
      },
      "execution_count": 6,
      "outputs": [
        {
          "output_type": "stream",
          "name": "stdout",
          "text": [
            "Enter the Fibonacci term you want to find: 10\n",
            "Fibonacci number at position 10 is 55\n",
            "Total steps taken: 29\n"
          ]
        }
      ]
    },
    {
      "cell_type": "code",
      "source": [
        "# Practical 2: Write a program to implement Huffman Encoding using a greedy strategy.\n",
        "class Job:\n",
        "    def __init__(self, job_id, deadline, profit):\n",
        "        self.job_id = job_id\n",
        "        self.deadline = deadline\n",
        "        self.profit = profit\n",
        "\n",
        "def job_sequencing_with_deadlines(jobs):\n",
        "    # Sort jobs based on decreasing order of profit\n",
        "    jobs.sort(key=lambda x: x.profit, reverse=True)\n",
        "\n",
        "    # Find the maximum deadline to create a time slot array\n",
        "    max_deadline = max(job.deadline for job in jobs)\n",
        "    time_slots = [-1] * (max_deadline + 1)  # Array to track free time slots\n",
        "\n",
        "    total_profit = 0\n",
        "    job_sequence = []\n",
        "\n",
        "    # Iterate over the sorted jobs\n",
        "    for job in jobs:\n",
        "        # Find a free time slot for this job, starting from the latest slot before its deadline\n",
        "        for t in range(min(job.deadline, max_deadline), 0, -1):\n",
        "            if time_slots[t] == -1:  # If the time slot is free\n",
        "                time_slots[t] = job.job_id  # Assign the job to this time slot\n",
        "                total_profit += job.profit  # Add profit to the total\n",
        "                job_sequence.append(job.job_id)  # Add job to the sequence\n",
        "                break  # Move to the next job after assigning\n",
        "\n",
        "    return job_sequence, total_profit\n",
        "\n",
        "# Example usage:\n",
        "jobs = [\n",
        "    Job('Job1', 2, 100),\n",
        "    Job('Job2', 1, 19),\n",
        "    Job('Job3', 2, 27),\n",
        "    Job('Job4', 1, 25),\n",
        "    Job('Job5', 3, 15)\n",
        "]\n",
        "\n",
        "job_sequence, total_profit = job_sequencing_with_deadlines(jobs)\n",
        "print(f\"Job sequence: {job_sequence}\")\n",
        "print(f\"Total profit: {total_profit}\")"
      ],
      "metadata": {
        "colab": {
          "base_uri": "https://localhost:8080/",
          "height": 0
        },
        "id": "6dr5-7dn77YD",
        "outputId": "eaac9c0a-f2ad-4b0f-f373-d64b76bfc151"
      },
      "execution_count": 7,
      "outputs": [
        {
          "output_type": "stream",
          "name": "stdout",
          "text": [
            "Job sequence: ['Job1', 'Job3', 'Job5']\n",
            "Total profit: 142\n"
          ]
        }
      ]
    },
    {
      "cell_type": "code",
      "source": [
        "# Practical 3: Write a program to solve a fractional Knapsack problem using a greedy method.\n",
        "class Item:\n",
        "    def __init__(self, value, weight):\n",
        "        self.value = value\n",
        "        self.weight = weight\n",
        "\n",
        "def fractional_knapsack(capacity, items):\n",
        "    # Sort items by value-to-weight ratio in decreasing order\n",
        "    items.sort(key=lambda x: x.value / x.weight, reverse=True)\n",
        "\n",
        "    total_value = 0  # Total value in the knapsack\n",
        "\n",
        "    for item in items:\n",
        "        if capacity - item.weight >= 0:\n",
        "            # If the whole item can be added\n",
        "            capacity -= item.weight\n",
        "            total_value += item.value\n",
        "        else:\n",
        "            # If only part of the item can be added\n",
        "            total_value += item.value * (capacity / item.weight)\n",
        "            break  # Knapsack is full\n",
        "\n",
        "    return total_value\n",
        "\n",
        "# Example usage\n",
        "if __name__ == \"__main__\":\n",
        "    items = [Item(60, 10), Item(100, 20), Item(120, 30)]  # Example items\n",
        "    capacity = 50  # Knapsack capacity\n",
        "    max_value = fractional_knapsack(capacity, items)\n",
        "    print(f\"Maximum value in the knapsack: {max_value:.2f}\")"
      ],
      "metadata": {
        "colab": {
          "base_uri": "https://localhost:8080/",
          "height": 0
        },
        "id": "Vl929uJk9Tbe",
        "outputId": "7c1e369f-818a-468d-9603-cc0936dbea35"
      },
      "execution_count": 8,
      "outputs": [
        {
          "output_type": "stream",
          "name": "stdout",
          "text": [
            "Maximum value in the knapsack: 240.00\n"
          ]
        }
      ]
    },
    {
      "cell_type": "code",
      "source": [
        "# Practical 4: Write a program to solve a 0-1 Knapsack problem using dynamic programming or branch and bound strategy.\n",
        "\n",
        "# Code: 0-1 Knapsack using Dynamic Programming\n",
        "def knapsack_dp(weights, values, capacity):\n",
        "    n = len(weights)\n",
        "    # Create a 2D array to store the maximum value for each capacity and item count\n",
        "    dp = [[0 for _ in range(capacity + 1)] for _ in range(n + 1)]\n",
        "\n",
        "    # Build the dp array\n",
        "    for i in range(1, n + 1):\n",
        "        for w in range(1, capacity + 1):\n",
        "            if weights[i - 1] <= w:\n",
        "                dp[i][w] = max(dp[i - 1][w], dp[i - 1][w - weights[i - 1]] + values[i - 1])\n",
        "            else:\n",
        "                dp[i][w] = dp[i - 1][w]\n",
        "\n",
        "    # The value in the last cell will be the maximum value for the knapsack\n",
        "    return dp[n][capacity]\n",
        "\n",
        "# Example usage\n",
        "values = [60, 100, 120]   # Value of each item\n",
        "weights = [10, 20, 30]    # Weight of each item\n",
        "capacity = 50             # Capacity of knapsack\n",
        "\n",
        "max_value = knapsack_dp(weights, values, capacity)\n",
        "print(f\"Maximum value in the knapsack: {max_value}\")"
      ],
      "metadata": {
        "colab": {
          "base_uri": "https://localhost:8080/",
          "height": 0
        },
        "id": "Uhjqy2CD9t5R",
        "outputId": "bd6e387c-89eb-42b5-dae2-dac4c1fc0dc5"
      },
      "execution_count": 9,
      "outputs": [
        {
          "output_type": "stream",
          "name": "stdout",
          "text": [
            "Maximum value in the knapsack: 220\n"
          ]
        }
      ]
    },
    {
      "cell_type": "code",
      "source": [
        "# Code: 0-1 Knapsack using Branch and Bound\n",
        "class Item:\n",
        "    def __init__(self, value, weight):\n",
        "        self.value = value\n",
        "        self.weight = weight\n",
        "        self.ratio = value / weight\n",
        "\n",
        "class Node:\n",
        "    def __init__(self, level, profit, weight, bound):\n",
        "        self.level = level\n",
        "        self.profit = profit\n",
        "        self.weight = weight\n",
        "        self.bound = bound\n",
        "\n",
        "def bound(node, n, capacity, items):\n",
        "    if node.weight >= capacity:\n",
        "        return 0\n",
        "    profit_bound = node.profit\n",
        "    j = node.level + 1\n",
        "    total_weight = node.weight\n",
        "\n",
        "    while j < n and total_weight + items[j].weight <= capacity:\n",
        "        total_weight += items[j].weight\n",
        "        profit_bound += items[j].value\n",
        "        j += 1\n",
        "\n",
        "    if j < n:\n",
        "        profit_bound += (capacity - total_weight) * items[j].ratio\n",
        "\n",
        "    return profit_bound\n",
        "\n",
        "def knapsack_branch_and_bound(capacity, items, n):\n",
        "    items.sort(key=lambda x: x.ratio, reverse=True)\n",
        "    queue = []\n",
        "    u = Node(-1, 0, 0, 0)\n",
        "    u.bound = bound(u, n, capacity, items)\n",
        "    max_profit = 0\n",
        "    queue.append(u)\n",
        "\n",
        "    while queue:\n",
        "        u = queue.pop(0)\n",
        "        if u.level == -1:\n",
        "            v = Node(0, 0, 0, 0)\n",
        "        if u.level == n - 1:\n",
        "            continue\n",
        "\n",
        "        v = Node(u.level + 1, u.profit + items[v.level].value, u.weight + items[v.level].weight, 0)\n",
        "\n",
        "        if v.weight <= capacity and v.profit > max_profit:\n",
        "            max_profit = v.profit\n",
        "\n",
        "        v.bound = bound(v, n, capacity, items)\n",
        "        if v.bound > max_profit:\n",
        "            queue.append(v)\n",
        "\n",
        "        v = Node(u.level + 1, u.profit, u.weight, 0)\n",
        "        v.bound = bound(v, n, capacity, items)\n",
        "        if v.bound > max_profit:\n",
        "            queue.append(v)\n",
        "\n",
        "    return max_profit\n",
        "\n",
        "# Example usage\n",
        "values = [60, 100, 120]\n",
        "weights = [10, 20, 30]\n",
        "capacity = 50\n",
        "items = [Item(values[i], weights[i]) for i in range(len(values))]\n",
        "n = len(items)\n",
        "\n",
        "max_profit = knapsack_branch_and_bound(capacity, items, n)\n",
        "print(f\"Maximum profit in the knapsack: {max_profit}\")"
      ],
      "metadata": {
        "colab": {
          "base_uri": "https://localhost:8080/",
          "height": 0
        },
        "id": "oWXTvxSL-e87",
        "outputId": "73ce5ab9-ce20-422b-a7de-10b1278edd1c"
      },
      "execution_count": 10,
      "outputs": [
        {
          "output_type": "stream",
          "name": "stdout",
          "text": [
            "Maximum profit in the knapsack: 220\n"
          ]
        }
      ]
    },
    {
      "cell_type": "code",
      "source": [
        "# 5. Mini Project\n",
        "import time\n",
        "import random\n",
        "from threading import Thread\n",
        "\n",
        "# Merge Sort Implementation\n",
        "def merge_sort(arr):\n",
        "    if len(arr) > 1:\n",
        "        mid = len(arr) // 2\n",
        "        L = arr[:mid]\n",
        "        R = arr[mid:]\n",
        "\n",
        "        merge_sort(L)\n",
        "        merge_sort(R)\n",
        "\n",
        "        i = j = k = 0\n",
        "        while i < len(L) and j < len(R):\n",
        "            if L[i] < R[j]:\n",
        "                arr[k] = L[i]\n",
        "                i += 1\n",
        "            else:\n",
        "                arr[k] = R[j]\n",
        "                j += 1\n",
        "            k += 1\n",
        "\n",
        "        while i < len(L):\n",
        "            arr[k] = L[i]\n",
        "            i += 1\n",
        "            k += 1\n",
        "\n",
        "        while j < len(R):\n",
        "            arr[k] = R[j]\n",
        "            j += 1\n",
        "            k += 1\n",
        "\n",
        "# Multithreaded Merge Sort Implementation\n",
        "def threaded_merge_sort(arr):\n",
        "    if len(arr) > 1:\n",
        "        mid = len(arr) // 2\n",
        "        L = arr[:mid]\n",
        "        R = arr[mid:]\n",
        "\n",
        "        left_thread = Thread(target=merge_sort, args=(L,))\n",
        "        right_thread = Thread(target=merge_sort, args=(R,))\n",
        "\n",
        "        # Start the threads\n",
        "        left_thread.start()\n",
        "        right_thread.start()\n",
        "\n",
        "        # Wait for both threads to finish\n",
        "        left_thread.join()\n",
        "        right_thread.join()\n",
        "\n",
        "        i = j = k = 0\n",
        "        while i < len(L) and j < len(R):\n",
        "            if L[i] < R[j]:\n",
        "                arr[k] = L[i]\n",
        "                i += 1\n",
        "            else:\n",
        "                arr[k] = R[j]\n",
        "                j += 1\n",
        "            k += 1\n",
        "\n",
        "        while i < len(L):\n",
        "            arr[k] = L[i]\n",
        "            i += 1\n",
        "            k += 1\n",
        "\n",
        "        while j < len(R):\n",
        "            arr[k] = R[j]\n",
        "            j += 1\n",
        "            k += 1\n",
        "\n",
        "# Function to measure time taken by sorting algorithms\n",
        "def measure_time(sort_function, arr):\n",
        "    start_time = time.time()\n",
        "    sort_function(arr)\n",
        "    end_time = time.time()\n",
        "    return end_time - start_time\n",
        "\n",
        "# Main function to compare both algorithms\n",
        "def compare_merge_sort_algorithms():\n",
        "    arr_size = 10000  # Adjust the size for testing\n",
        "    best_case = list(range(arr_size))  # Sorted array (best case for merge sort)\n",
        "    worst_case = list(range(arr_size, 0, -1))  # Reversed array (worst case for merge sort)\n",
        "\n",
        "    # Measure time for single-threaded merge sort\n",
        "    print(\"Testing Single-threaded Merge Sort:\")\n",
        "    best_time_single = measure_time(merge_sort, best_case.copy())\n",
        "    worst_time_single = measure_time(merge_sort, worst_case.copy())\n",
        "    print(f\"Best case time (Single-threaded): {best_time_single:.6f} seconds\")\n",
        "    print(f\"Worst case time (Single-threaded): {worst_time_single:.6f} seconds\")\n",
        "\n",
        "    # Measure time for multithreaded merge sort\n",
        "    print(\"\\nTesting Multithreaded Merge Sort:\")\n",
        "    best_time_multi = measure_time(threaded_merge_sort, best_case.copy())\n",
        "    worst_time_multi = measure_time(threaded_merge_sort, worst_case.copy())\n",
        "    print(f\"Best case time (Multithreaded): {best_time_multi:.6f} seconds\")\n",
        "    print(f\"Worst case time (Multithreaded): {worst_time_multi:.6f} seconds\")\n",
        "\n",
        "# Run the comparison\n",
        "if __name__ == \"__main__\":\n",
        "    compare_merge_sort_algorithms()"
      ],
      "metadata": {
        "colab": {
          "base_uri": "https://localhost:8080/"
        },
        "id": "u4IoDyF_-sBw",
        "outputId": "3939fd1f-0197-4666-cfb0-51045d25c995"
      },
      "execution_count": 11,
      "outputs": [
        {
          "output_type": "stream",
          "name": "stdout",
          "text": [
            "Testing Single-threaded Merge Sort:\n",
            "Best case time (Single-threaded): 0.037866 seconds\n",
            "Worst case time (Single-threaded): 0.035687 seconds\n",
            "\n",
            "Testing Multithreaded Merge Sort:\n",
            "Best case time (Multithreaded): 0.053634 seconds\n",
            "Worst case time (Multithreaded): 0.065706 seconds\n"
          ]
        }
      ]
    }
  ],
  "metadata": {
    "colab": {
      "provenance": [],
      "authorship_tag": "ABX9TyPRiTRyZHt+c3gaqeOwdu/t",
      "include_colab_link": true
    },
    "kernelspec": {
      "display_name": "Python 3",
      "name": "python3"
    },
    "language_info": {
      "name": "python"
    }
  },
  "nbformat": 4,
  "nbformat_minor": 0
}